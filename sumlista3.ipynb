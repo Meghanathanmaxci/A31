{
 "cells": [
  {
   "cell_type": "markdown",
   "id": "42f2b8d9",
   "metadata": {},
   "source": [
    "# WPP function to sum all the numbers in a list.\n",
    "# Sample list : (8,2,3,0,7)\n",
    "# expected output :20\n"
   ]
  },
  {
   "cell_type": "code",
   "execution_count": 1,
   "id": "5dd65f0f",
   "metadata": {},
   "outputs": [
    {
     "name": "stdout",
     "output_type": "stream",
     "text": [
      "20\n"
     ]
    }
   ],
   "source": [
    "l = [8,2,3,0,7]\n",
    "total = 0\n",
    "for i in range(0,len(l)):\n",
    "    total = total + l[i]\n",
    "print(total)\n"
   ]
  },
  {
   "cell_type": "code",
   "execution_count": null,
   "id": "f7b97459",
   "metadata": {},
   "outputs": [],
   "source": []
  }
 ],
 "metadata": {
  "kernelspec": {
   "display_name": "Python 3 (ipykernel)",
   "language": "python",
   "name": "python3"
  },
  "language_info": {
   "codemirror_mode": {
    "name": "ipython",
    "version": 3
   },
   "file_extension": ".py",
   "mimetype": "text/x-python",
   "name": "python",
   "nbconvert_exporter": "python",
   "pygments_lexer": "ipython3",
   "version": "3.10.0"
  }
 },
 "nbformat": 4,
 "nbformat_minor": 5
}
